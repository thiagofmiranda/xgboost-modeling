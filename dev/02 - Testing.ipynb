{
 "cells": [
  {
   "cell_type": "markdown",
   "id": "463edba6-0221-4943-85ad-a25c58374555",
   "metadata": {
    "tags": []
   },
   "source": [
    "### 1 - Testing model"
   ]
  },
  {
   "cell_type": "code",
   "execution_count": 1,
   "id": "b5e33203-7070-44c7-8af2-c8aad176e640",
   "metadata": {
    "tags": []
   },
   "outputs": [],
   "source": [
    "import json\n",
    "import numpy as np\n",
    "from xgboost import XGBClassifier"
   ]
  },
  {
   "cell_type": "code",
   "execution_count": 2,
   "id": "bf4b9611-2659-46ff-9fc1-b5b49130acad",
   "metadata": {
    "tags": []
   },
   "outputs": [],
   "source": [
    "# Load the saved model\n",
    "loaded_model = XGBClassifier()\n",
    "loaded_model.load_model(\"data/main_model.model\")"
   ]
  },
  {
   "cell_type": "code",
   "execution_count": 3,
   "id": "d702fbc7-0ecc-4b49-831b-7bf06bee572b",
   "metadata": {
    "tags": []
   },
   "outputs": [],
   "source": [
    "p1 = [1.0,1.0,1.0,1.0]"
   ]
  },
  {
   "cell_type": "code",
   "execution_count": 4,
   "id": "09d6f6c8-1e04-48b4-b61f-714be54dcfe2",
   "metadata": {
    "tags": []
   },
   "outputs": [],
   "source": [
    "predictions_out = loaded_model.predict(np.array([p1]))"
   ]
  },
  {
   "cell_type": "code",
   "execution_count": 5,
   "id": "41b6ad82-1eda-472c-9653-bff4c76672e2",
   "metadata": {
    "tags": []
   },
   "outputs": [
    {
     "name": "stdout",
     "output_type": "stream",
     "text": [
      "[0]\n"
     ]
    }
   ],
   "source": [
    "print(predictions_out)"
   ]
  },
  {
   "cell_type": "code",
   "execution_count": 6,
   "id": "2bb4fe64-2291-498a-ae62-b9692e87c56a",
   "metadata": {
    "tags": []
   },
   "outputs": [
    {
     "name": "stdout",
     "output_type": "stream",
     "text": [
      "Iris-setosa\n"
     ]
    }
   ],
   "source": [
    "dict_out = {}\n",
    "for count, value in enumerate(predictions_out):\n",
    "        dict_out[count] = float(value)\n",
    "\n",
    "# Load json for decoding and decode the output\n",
    "with open('data/encoder.json') as json_file:\n",
    "    data = json.load(json_file)\n",
    "\n",
    "print(data[str(int(dict_out[0]))])"
   ]
  },
  {
   "cell_type": "code",
   "execution_count": 7,
   "id": "5c6fc527-bc3a-4f5a-8b5a-2ed0af030eb0",
   "metadata": {
    "tags": []
   },
   "outputs": [],
   "source": [
    "from functions import make_prediction"
   ]
  },
  {
   "cell_type": "code",
   "execution_count": 8,
   "id": "78b67616-2145-4ce7-904d-cfc2af156a5d",
   "metadata": {
    "tags": []
   },
   "outputs": [
    {
     "name": "stdout",
     "output_type": "stream",
     "text": [
      "[0]\n"
     ]
    },
    {
     "data": {
      "text/plain": [
       "'Iris-setosa'"
      ]
     },
     "execution_count": 8,
     "metadata": {},
     "output_type": "execute_result"
    }
   ],
   "source": [
    "# or\n",
    "make_prediction(np.array([p1]))"
   ]
  },
  {
   "cell_type": "markdown",
   "id": "1ed8e229-3144-4a26-97cb-b2b29bf37111",
   "metadata": {},
   "source": [
    "### 2 - Testing API\n",
    "\n",
    "Fisrt, run the API with uvicorn in terminal/cmd:\n",
    "> uvicorn api:app"
   ]
  },
  {
   "cell_type": "code",
   "execution_count": 9,
   "id": "fc1cb7f2-c294-40e7-a361-fb3bc42cddb5",
   "metadata": {
    "tags": []
   },
   "outputs": [],
   "source": [
    "import urllib.request"
   ]
  },
  {
   "cell_type": "code",
   "execution_count": 10,
   "id": "4a4f23df-85a2-4db6-9119-9eb9b724bec7",
   "metadata": {
    "tags": []
   },
   "outputs": [
    {
     "name": "stdout",
     "output_type": "stream",
     "text": [
      "\"Iris-setosa\"\n"
     ]
    }
   ],
   "source": [
    "fp = urllib.request.urlopen(\"http://localhost:8000/1/1/1/1\")\n",
    "mybytes = fp.read()\n",
    "mystr = mybytes.decode(\"utf8\")\n",
    "fp.close()\n",
    "\n",
    "print(mystr)"
   ]
  }
 ],
 "metadata": {
  "kernelspec": {
   "display_name": "Python 3 (ipykernel)",
   "language": "python",
   "name": "python3"
  },
  "language_info": {
   "codemirror_mode": {
    "name": "ipython",
    "version": 3
   },
   "file_extension": ".py",
   "mimetype": "text/x-python",
   "name": "python",
   "nbconvert_exporter": "python",
   "pygments_lexer": "ipython3",
   "version": "3.11.5"
  }
 },
 "nbformat": 4,
 "nbformat_minor": 5
}
