{
 "cells": [
  {
   "cell_type": "code",
   "execution_count": 1,
   "id": "406cb95c-2a77-4a23-a16d-b024572c40ce",
   "metadata": {
    "tags": []
   },
   "outputs": [],
   "source": [
    "# libs\n",
    "import pandas as pd\n",
    "from sklearn.preprocessing import LabelEncoder\n",
    "from sklearn.model_selection import train_test_split\n",
    "from sklearn.metrics import mean_absolute_error\n",
    "from xgboost import XGBClassifier\n",
    "import csv\n",
    "import json"
   ]
  },
  {
   "cell_type": "code",
   "execution_count": 2,
   "id": "202f9816-7fe5-4163-a1d3-821d9ae0509d",
   "metadata": {
    "tags": []
   },
   "outputs": [],
   "source": [
    "iris_data = pd.read_csv(\n",
    "        \"data/iris.data\",\n",
    "        header=None,\n",
    "        names=[\"Sepal Length\", \"Sepal Width\",\"Petal Length\", \"Petal Width\", \"Species\"])"
   ]
  },
  {
   "cell_type": "code",
   "execution_count": 3,
   "id": "4c06ab66-4f4c-49c0-94d1-345b7c5ef739",
   "metadata": {
    "tags": []
   },
   "outputs": [],
   "source": [
    "# Process Data\n",
    "label_encoder = LabelEncoder()\n",
    "iris_data[\"Species_Encoded\"] = label_encoder.fit_transform(iris_data[\"Species\"])"
   ]
  },
  {
   "cell_type": "code",
   "execution_count": 4,
   "id": "4b2fefc7-fbcf-4639-9ec8-4783856480d8",
   "metadata": {
    "tags": []
   },
   "outputs": [
    {
     "data": {
      "text/html": [
       "<div>\n",
       "<style scoped>\n",
       "    .dataframe tbody tr th:only-of-type {\n",
       "        vertical-align: middle;\n",
       "    }\n",
       "\n",
       "    .dataframe tbody tr th {\n",
       "        vertical-align: top;\n",
       "    }\n",
       "\n",
       "    .dataframe thead th {\n",
       "        text-align: right;\n",
       "    }\n",
       "</style>\n",
       "<table border=\"1\" class=\"dataframe\">\n",
       "  <thead>\n",
       "    <tr style=\"text-align: right;\">\n",
       "      <th></th>\n",
       "      <th>Sepal Length</th>\n",
       "      <th>Sepal Width</th>\n",
       "      <th>Petal Length</th>\n",
       "      <th>Petal Width</th>\n",
       "      <th>Species</th>\n",
       "      <th>Species_Encoded</th>\n",
       "    </tr>\n",
       "  </thead>\n",
       "  <tbody>\n",
       "    <tr>\n",
       "      <th>0</th>\n",
       "      <td>5.1</td>\n",
       "      <td>3.5</td>\n",
       "      <td>1.4</td>\n",
       "      <td>0.2</td>\n",
       "      <td>Iris-setosa</td>\n",
       "      <td>0</td>\n",
       "    </tr>\n",
       "    <tr>\n",
       "      <th>1</th>\n",
       "      <td>4.9</td>\n",
       "      <td>3.0</td>\n",
       "      <td>1.4</td>\n",
       "      <td>0.2</td>\n",
       "      <td>Iris-setosa</td>\n",
       "      <td>0</td>\n",
       "    </tr>\n",
       "    <tr>\n",
       "      <th>2</th>\n",
       "      <td>4.7</td>\n",
       "      <td>3.2</td>\n",
       "      <td>1.3</td>\n",
       "      <td>0.2</td>\n",
       "      <td>Iris-setosa</td>\n",
       "      <td>0</td>\n",
       "    </tr>\n",
       "    <tr>\n",
       "      <th>3</th>\n",
       "      <td>4.6</td>\n",
       "      <td>3.1</td>\n",
       "      <td>1.5</td>\n",
       "      <td>0.2</td>\n",
       "      <td>Iris-setosa</td>\n",
       "      <td>0</td>\n",
       "    </tr>\n",
       "    <tr>\n",
       "      <th>4</th>\n",
       "      <td>5.0</td>\n",
       "      <td>3.6</td>\n",
       "      <td>1.4</td>\n",
       "      <td>0.2</td>\n",
       "      <td>Iris-setosa</td>\n",
       "      <td>0</td>\n",
       "    </tr>\n",
       "  </tbody>\n",
       "</table>\n",
       "</div>"
      ],
      "text/plain": [
       "   Sepal Length  Sepal Width  Petal Length  Petal Width      Species  \\\n",
       "0           5.1          3.5           1.4          0.2  Iris-setosa   \n",
       "1           4.9          3.0           1.4          0.2  Iris-setosa   \n",
       "2           4.7          3.2           1.3          0.2  Iris-setosa   \n",
       "3           4.6          3.1           1.5          0.2  Iris-setosa   \n",
       "4           5.0          3.6           1.4          0.2  Iris-setosa   \n",
       "\n",
       "   Species_Encoded  \n",
       "0                0  \n",
       "1                0  \n",
       "2                0  \n",
       "3                0  \n",
       "4                0  "
      ]
     },
     "execution_count": 4,
     "metadata": {},
     "output_type": "execute_result"
    }
   ],
   "source": [
    "iris_data.head()"
   ]
  },
  {
   "cell_type": "code",
   "execution_count": 5,
   "id": "cdd7fd61-f75b-44f9-bd47-af86ad7cd18b",
   "metadata": {
    "tags": []
   },
   "outputs": [],
   "source": [
    "# Saved processed data to new file and json\n",
    "iris_data.to_csv(\"data/encoded_data.csv\")\n",
    "options_title = iris_data[\"Species\"].unique()\n",
    "dict_encoder = {}\n",
    "for item in options_title:\n",
    "    dict_encoder[str(iris_data[iris_data[\"Species\"] == item].iloc[0][\"Species_Encoded\"])] = item\n",
    "with open(\"data/encoder.json\", \"w\") as write_file:\n",
    "        json.dump(dict_encoder, write_file, indent=4) \n"
   ]
  },
  {
   "cell_type": "code",
   "execution_count": 6,
   "id": "db401738-e01c-4c9c-ba61-9fbe21a68fb1",
   "metadata": {
    "tags": []
   },
   "outputs": [],
   "source": [
    "# Make x and y data\n",
    "y = iris_data[\"Species_Encoded\"].copy()\n",
    "x = iris_data.drop([\"Species\", \"Species_Encoded\"], axis=1)\n",
    "x_train, x_valid, y_train, y_valid = train_test_split(x, y, train_size=0.75)"
   ]
  },
  {
   "cell_type": "code",
   "execution_count": 7,
   "id": "297e72d7-7ab9-4b6a-84c9-475f33a46fa6",
   "metadata": {
    "tags": []
   },
   "outputs": [
    {
     "name": "stderr",
     "output_type": "stream",
     "text": [
      "C:\\Users\\Thiago Miranda\\AppData\\Roaming\\Python\\Python311\\site-packages\\xgboost\\core.py:160: UserWarning: [18:23:26] WARNING: C:\\buildkite-agent\\builds\\buildkite-windows-cpu-autoscaling-group-i-0cec3277c4d9d0165-1\\xgboost\\xgboost-ci-windows\\src\\c_api\\c_api.cc:1240: Saving into deprecated binary model format, please consider using `json` or `ubj`. Model format will default to JSON in XGBoost 2.2 if not specified.\n",
      "  warnings.warn(smsg, UserWarning)\n"
     ]
    }
   ],
   "source": [
    "# Train model and save\n",
    "model = XGBClassifier()\n",
    "model.fit(x_train, y_train)\n",
    "model.save_model(\"data/main_model.model\")"
   ]
  },
  {
   "cell_type": "code",
   "execution_count": 8,
   "id": "1a6bcb58-c9a9-4d6e-b045-a9d1d8d4055f",
   "metadata": {
    "tags": []
   },
   "outputs": [
    {
     "name": "stdout",
     "output_type": "stream",
     "text": [
      "MAE: 0.05263157894736842\n"
     ]
    }
   ],
   "source": [
    "# Test model\n",
    "predictions = model.predict(x_valid)\n",
    "print(f\"MAE: {str(mean_absolute_error(predictions, y_valid))}\")"
   ]
  }
 ],
 "metadata": {
  "kernelspec": {
   "display_name": "Python 3 (ipykernel)",
   "language": "python",
   "name": "python3"
  },
  "language_info": {
   "codemirror_mode": {
    "name": "ipython",
    "version": 3
   },
   "file_extension": ".py",
   "mimetype": "text/x-python",
   "name": "python",
   "nbconvert_exporter": "python",
   "pygments_lexer": "ipython3",
   "version": "3.11.5"
  }
 },
 "nbformat": 4,
 "nbformat_minor": 5
}
